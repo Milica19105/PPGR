{
 "cells": [
  {
   "cell_type": "code",
   "execution_count": 1,
   "metadata": {},
   "outputs": [],
   "source": [
    "import math\n",
    "import numpy as np\n",
    "import matplotlib.pyplot as plt"
   ]
  },
  {
   "cell_type": "code",
   "execution_count": 2,
   "metadata": {},
   "outputs": [],
   "source": [
    "def draw(original, product):\n",
    "    xs = [p[0] for p in original]\n",
    "    ys = [p[1] for p in original]\n",
    "    xs.append(original[0][0])\n",
    "    ys.append(original[0][1])\n",
    "\n",
    "    xd = [p[0] for p in product]\n",
    "    yd = [p[1] for p in product]\n",
    "    xd.append(product[0][0])\n",
    "    yd.append(product[0][1])\n",
    "\n",
    "    plt.plot(xs, ys)\n",
    "    plt.plot(xd, yd)\n",
    "    plt.legend(['original', 'slika'])\n",
    "    plt.show()"
   ]
  },
  {
   "cell_type": "code",
   "execution_count": 3,
   "metadata": {},
   "outputs": [],
   "source": [
    "# originalne tacke\n",
    "original_points = [[-3, -1, 1],\n",
    "                    [3, -1, 1],\n",
    "                    [1, 1, 1],\n",
    "                    [-1, 1, 1]]\n",
    "\n",
    "# slike tacaka\n",
    "product_points = [[-2, -1, 1],\n",
    "                  [2, -1, 1],\n",
    "                  [2, 1, 1],\n",
    "                  [-2, 1, 1]]\n"
   ]
  },
  {
   "cell_type": "code",
   "execution_count": 4,
   "metadata": {},
   "outputs": [
    {
     "data": {
      "image/png": "[encoded data removed]",
      "text/plain": [
       "<Figure size 432x288 with 1 Axes>"
      ]
     },
     "metadata": {
      "needs_background": "light"
     },
     "output_type": "display_data"
    }
   ],
   "source": [
    "# Graficki prikaz\n",
    "draw(original_points, product_points)"
   ]
  },
  {
   "cell_type": "markdown",
   "metadata": {},
   "source": [
    "# NAIVNI ALGORITAM"
   ]
  },
  {
   "cell_type": "code",
   "execution_count": 5,
   "metadata": {},
   "outputs": [],
   "source": [
    "#D=gamma1*A+gamma2*B+gamma2*C\n"
   ]
  },
  {
   "cell_type": "code",
   "execution_count": 6,
   "metadata": {},
   "outputs": [],
   "source": [
    "def find_matrix(x):\n",
    "    matrix = np.array([ # A, B, C\n",
    "        [x[0][0], x[1][0], x[2][0]],\n",
    "        [x[0][1], x[1][1], x[2][1]],\n",
    "        [x[0][2], x[1][2], x[2][2]]\n",
    "    ])\n",
    "\n",
    "    D = np.array([x[3][0], x[3][1], x[3][2]])\n",
    "\n",
    "    #    D=gamma1*A+gamma2*B+gamma2*C\n",
    "\n",
    "    result = np.linalg.solve(matrix, D)\n",
    "\n",
    "    gamma1 = result[0]\n",
    "    gamma2 = result[1]\n",
    "    gamma3 = result[2]\n",
    "\n",
    "    column1= np.array([gamma1*x[0][0], gamma1*x[0][1], gamma1*x[0][2]])\n",
    "    column2= np.array([gamma2*x[1][0], gamma2*x[1][1], gamma2*x[1][2]])\n",
    "    column3= np.array([gamma3*x[2][0], gamma3*x[2][1], gamma3*x[2][2]])\n",
    "\n",
    "    P = np.column_stack([column1, column2, column3])\n",
    "\n",
    "    return P\n",
    "\n",
    "def naive_algorithm(original, product):\n",
    "\n",
    "    P1 = find_matrix(original)\n",
    "    P2 = find_matrix(product)\n",
    "\n",
    "    # P = P2*inv(P1)\n",
    "    P = np.dot(P2, np.linalg.inv(P1))\n",
    "\n",
    "    return P\n"
   ]
  },
  {
   "cell_type": "code",
   "execution_count": 7,
   "metadata": {},
   "outputs": [
    {
     "name": "stdout",
     "output_type": "stream",
     "text": [
      "Matrica projektivnog preslikavanja dobijena naivnim algoritmom:\n",
      "[[ 2. -0.  0.]\n",
      " [-0.  2. -1.]\n",
      " [ 0. -1.  2.]]\n"
     ]
    }
   ],
   "source": [
    "P_naive = naive_algorithm(original_points, product_points)\n",
    "P_naive = P_naive.round(5)\n",
    "print(\"Matrica projektivnog preslikavanja dobijena naivnim algoritmom:\")\n",
    "print(P_naive)"
   ]
  },
  {
   "cell_type": "markdown",
   "metadata": {},
   "source": [
    "# DLT ALGORITAM"
   ]
  },
  {
   "cell_type": "code",
   "execution_count": 8,
   "metadata": {},
   "outputs": [],
   "source": [
    "def dlt(original, product):\n",
    "    x = original[0][0]\n",
    "    y = original[0][1]\n",
    "    z = original[0][2]\n",
    "\n",
    "    xp = product[0][0]\n",
    "    yp = product[0][1]\n",
    "    zp = product[0][2]\n",
    "\n",
    "    A = np.array([\n",
    "        [   0,    0,    0, -zp*x, -zp*y, -zp*z,  yp*x,  yp*y,  yp*z],\n",
    "        [zp*x, zp*y, zp*z,     0,     0,     0, -xp*x, -xp*y, -xp*z]\n",
    "    ])\n",
    "\n",
    "    for i in range(1, len(original)):\n",
    "        x = original[i][0]\n",
    "        y = original[i][1]\n",
    "        z = original[i][2]\n",
    "\n",
    "        xp = product[i][0]\n",
    "        yp = product[i][1]\n",
    "        zp = product[i][2]\n",
    "\n",
    "        row1 = np.array([0, 0, 0, -zp*x, -zp*y, -zp*z, yp*x, yp*y, yp*z])\n",
    "        row2 = np.array([zp*x, zp*y, zp*z, 0, 0, 0, -xp*x, -xp*y, -xp*z])\n",
    "\n",
    "        A = np.vstack((A, row1))\n",
    "        A = np.vstack((A, row2))\n",
    "\n",
    "    M, N, L = np.linalg.svd(A)\n",
    "\n",
    "    P = L[-1].reshape(3,3)\n",
    "    \n",
    "    return P"
   ]
  },
  {
   "cell_type": "code",
   "execution_count": 9,
   "metadata": {},
   "outputs": [
    {
     "name": "stdout",
     "output_type": "stream",
     "text": [
      "Matrica projektivnog preslikavanja dobijena DLT algoritmom\n",
      "[[ 0.53452  0.      -0.     ]\n",
      " [-0.       0.53452 -0.26726]\n",
      " [-0.      -0.26726  0.53452]]\n"
     ]
    }
   ],
   "source": [
    "P_dlt = dlt(original_points, product_points)\n",
    "print(\"Matrica projektivnog preslikavanja dobijena DLT algoritmom\")\n",
    "print(P_dlt.round(5))"
   ]
  },
  {
   "cell_type": "markdown",
   "metadata": {},
   "source": [
    "# Poredjenje DLT i naivnog algoritma"
   ]
  },
  {
   "cell_type": "code",
   "execution_count": 10,
   "metadata": {},
   "outputs": [
    {
     "name": "stdout",
     "output_type": "stream",
     "text": [
      "[[ 2.  0. -0.]\n",
      " [-0.  2. -1.]\n",
      " [-0. -1.  2.]]\n"
     ]
    }
   ],
   "source": [
    "P_dlt = (P_dlt / P_dlt[0, 0]) * P_naive[0, 0]\n",
    "print(P_dlt.round(5))"
   ]
  },
  {
   "cell_type": "markdown",
   "metadata": {},
   "source": [
    "kao sto vidimo dobili smo istu matricu kao i preko naivnog algoritma ali cisto da proverimo da li su stvarno iste"
   ]
  },
  {
   "cell_type": "code",
   "execution_count": 11,
   "metadata": {},
   "outputs": [
    {
     "data": {
      "text/plain": [
       "array([[ True,  True,  True],\n",
       "       [ True,  True,  True],\n",
       "       [ True,  True,  True]])"
      ]
     },
     "execution_count": 11,
     "metadata": {},
     "output_type": "execute_result"
    }
   ],
   "source": [
    "P_dlt.round(5) == P_naive.round(5)"
   ]
  },
  {
   "cell_type": "code",
   "execution_count": null,
   "metadata": {},
   "outputs": [],
   "source": []
  }
 ],
 "metadata": {
  "kernelspec": {
   "display_name": "Python 3",
   "language": "python",
   "name": "python3"
  },
  "language_info": {
   "codemirror_mode": {
    "name": "ipython",
    "version": 3
   },
   "file_extension": ".py",
   "mimetype": "text/x-python",
   "name": "python",
   "nbconvert_exporter": "python",
   "pygments_lexer": "ipython3",
   "version": "3.8.5"
  }
 },
 "nbformat": 4,
 "nbformat_minor": 4
}
