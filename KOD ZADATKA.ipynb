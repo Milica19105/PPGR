{
 "cells": [
  {
   "cell_type": "markdown",
   "metadata": {},
   "source": [
    "Prva stvar koju ćemo uraditi jeste da ćemo grafički da prikažemo naš trapez koji slikamo u pravougaonik.    \n",
    "Naš problem koji rešavamo jeste pronalazak matrice projektivnog preslikavanja preko različitih algoritama."
   ]
  },
  {
   "cell_type": "code",
   "execution_count": null,
   "metadata": {},
   "outputs": [],
   "source": [
    "import math\n",
    "import numpy as np\n",
    "import matplotlib.pyplot as plt"
   ]
  },
  {
   "cell_type": "code",
   "execution_count": null,
   "metadata": {},
   "outputs": [],
   "source": [
    "def draw(original, product):\n",
    "    xs = [p[0] for p in original]\n",
    "    ys = [p[1] for p in original]\n",
    "    xs.append(original[0][0])\n",
    "    ys.append(original[0][1])\n",
    "\n",
    "    xd = [p[0] for p in product]\n",
    "    yd = [p[1] for p in product]\n",
    "    xd.append(product[0][0])\n",
    "    yd.append(product[0][1])\n",
    "\n",
    "    plt.plot(xs, ys)\n",
    "    plt.plot(xd, yd)\n",
    "    plt.legend(['original', 'slika'])\n",
    "    plt.show()"
   ]
  },
  {
   "cell_type": "code",
   "execution_count": null,
   "metadata": {},
   "outputs": [],
   "source": [
    "# originalne tacke\n",
    "original_points = [[-3, -1, 1],\n",
    "                    [3, -1, 1],\n",
    "                    [1, 1, 1],\n",
    "                    [-1, 1, 1]]\n",
    "\n",
    "# slike tacaka\n",
    "product_points = [[-2, -1, 1],\n",
    "                  [2, -1, 1],\n",
    "                  [2, 1, 1],\n",
    "                  [-2, 1, 1]]\n"
   ]
  },
  {
   "cell_type": "code",
   "execution_count": null,
   "metadata": {},
   "outputs": [],
   "source": [
    "# Graficki prikaz\n",
    "draw(original_points, product_points)"
   ]
  },
  {
   "cell_type": "markdown",
   "metadata": {},
   "source": [
    "Takodje unela sam i svoje tačke \n",
    "da bi se videlo da kod radi i na mojim test primerima kao i na unapred zadatim tačkama."
   ]
  },
  {
   "cell_type": "code",
   "execution_count": null,
   "metadata": {},
   "outputs": [],
   "source": [
    "my_original_points = [[-2, -1, 1],\n",
    "                      [2, -1, 1],\n",
    "                      [1, 1, 1],\n",
    "                      [-1, 1, 1]]\n",
    "\n",
    "my_product_points  = [[-1, -1, 1],\n",
    "                      [1, -1, 1],\n",
    "                      [1, 1, 1],\n",
    "                      [-1, 1, 1]]"
   ]
  },
  {
   "cell_type": "markdown",
   "metadata": {},
   "source": [
    "# Naivni algoritam"
   ]
  },
  {
   "cell_type": "markdown",
   "metadata": {},
   "source": [
    "D = gamma1*A + gamma2*B + gamma2*C\n",
    "\n",
    "\n",
    "P = P2*inv(P1)"
   ]
  },
  {
   "cell_type": "code",
   "execution_count": null,
   "metadata": {},
   "outputs": [],
   "source": [
    "def find_matrix(x):\n",
    "    matrix = np.array([\n",
    "        [x[0][0], x[1][0], x[2][0]],\n",
    "        [x[0][1], x[1][1], x[2][1]],\n",
    "        [x[0][2], x[1][2], x[2][2]]\n",
    "    ])\n",
    "\n",
    "    D = np.array([x[3][0], x[3][1], x[3][2]])\n",
    "\n",
    "    result = np.linalg.solve(matrix, D)\n",
    "\n",
    "    gamma1 = result[0]\n",
    "    gamma2 = result[1]\n",
    "    gamma3 = result[2]\n",
    "\n",
    "    column1= np.array([gamma1*x[0][0], gamma1*x[0][1], gamma1*x[0][2]])\n",
    "    column2= np.array([gamma2*x[1][0], gamma2*x[1][1], gamma2*x[1][2]])\n",
    "    column3= np.array([gamma3*x[2][0], gamma3*x[2][1], gamma3*x[2][2]])\n",
    "\n",
    "    P = np.column_stack([column1, column2, column3])\n",
    "\n",
    "    return P\n",
    "\n",
    "def naive_algorithm(original, product):\n",
    "\n",
    "    P1 = find_matrix(original)\n",
    "    P2 = find_matrix(product)\n",
    "\n",
    "    P = np.dot(P2, np.linalg.inv(P1))\n",
    "\n",
    "    return P\n"
   ]
  },
  {
   "cell_type": "code",
   "execution_count": null,
   "metadata": {},
   "outputs": [],
   "source": [
    "P_naive = naive_algorithm(original_points, product_points)\n",
    "P_my_naive=naive_algorithm(my_original_points, my_product_points)\n",
    "P_naive = P_naive.round(5)\n",
    "P_my_naive= P_my_naive.round(5)\n",
    "print(\"Matrica projektivnog preslikavanja dobijena naivnim algoritmom:\")\n",
    "print(P_naive)\n",
    "print(\"\\n\")\n",
    "print(\"Matrica projektivnog preslikavanja dobijena naivnim algoritmom(moje koordinate):\")\n",
    "print(P_my_naive)"
   ]
  },
  {
   "cell_type": "markdown",
   "metadata": {},
   "source": [
    "# DLT algoritam"
   ]
  },
  {
   "cell_type": "code",
   "execution_count": null,
   "metadata": {},
   "outputs": [],
   "source": [
    "def dlt(original, product):\n",
    "    x = original[0][0]\n",
    "    y = original[0][1]\n",
    "    z = original[0][2]\n",
    "\n",
    "    xp = product[0][0]\n",
    "    yp = product[0][1]\n",
    "    zp = product[0][2]\n",
    "\n",
    "    A = np.array([\n",
    "        [   0,    0,    0, -zp*x, -zp*y, -zp*z,  yp*x,  yp*y,  yp*z],\n",
    "        [zp*x, zp*y, zp*z,     0,     0,     0, -xp*x, -xp*y, -xp*z]\n",
    "    ])\n",
    "\n",
    "    for i in range(1, len(original)):\n",
    "        x = original[i][0]\n",
    "        y = original[i][1]\n",
    "        z = original[i][2]\n",
    "\n",
    "        xp = product[i][0]\n",
    "        yp = product[i][1]\n",
    "        zp = product[i][2]\n",
    "\n",
    "        row1 = np.array([0, 0, 0, -zp*x, -zp*y, -zp*z, yp*x, yp*y, yp*z])\n",
    "        row2 = np.array([zp*x, zp*y, zp*z, 0, 0, 0, -xp*x, -xp*y, -xp*z])\n",
    "\n",
    "        A = np.vstack((A, row1))\n",
    "        A = np.vstack((A, row2))\n",
    "\n",
    "    M, N, L = np.linalg.svd(A)\n",
    "\n",
    "    P = L[-1].reshape(3,3)\n",
    "    \n",
    "    return P"
   ]
  },
  {
   "cell_type": "code",
   "execution_count": null,
   "metadata": {},
   "outputs": [],
   "source": [
    "P_dlt = dlt(original_points, product_points)\n",
    "P_my_dlt=dlt(my_original_points, my_product_points)\n",
    "print(\"Matrica projektivnog preslikavanja dobijena DLT algoritmom:\")\n",
    "print(P_dlt.round(5))\n",
    "print(\"\\n\")\n",
    "print(\"Matrica projektivnog preslikavanja dobijena DLT algoritmom(moje koordinate):\")\n",
    "print(P_my_dlt.round(5))"
   ]
  },
  {
   "cell_type": "markdown",
   "metadata": {},
   "source": [
    "# Poredjenje DLT i naivnog algoritma"
   ]
  },
  {
   "cell_type": "code",
   "execution_count": null,
   "metadata": {},
   "outputs": [],
   "source": [
    "P_dlt = (P_dlt / P_dlt[0, 0]) * P_naive[0, 0]\n",
    "print(\"Poredjenje DLT i naivnog algoritma(zadate koordinate):\")\n",
    "print(P_dlt.round(5))\n",
    "print(\"\\n\")\n",
    "\n",
    "P_my_dlt = (P_my_dlt / P_my_dlt[0, 0]) * P_my_naive[0, 0]\n",
    "print(\"Poredjenje DLT i naivnog algoritma(moje koordinate):\")\n",
    "print(P_my_dlt.round(5))\n"
   ]
  },
  {
   "cell_type": "markdown",
   "metadata": {},
   "source": [
    "Kao sto vidimo dobili smo istu matricu kao i preko naivnog algoritma ali cisto da proverimo da li su stvarno iste"
   ]
  },
  {
   "cell_type": "code",
   "execution_count": null,
   "metadata": {},
   "outputs": [],
   "source": [
    "print(\"Zadate koordinate:\")\n",
    "if np.array_equal(P_dlt.round(5),P_naive.round(5)):\n",
    "    print(\"Matrice su iste\")\n",
    "print(\"Moje koordinate:\")\n",
    "if np.array_equal(P_my_dlt.round(5),P_my_naive.round(5)):\n",
    "    print(\"Matrice su iste\")"
   ]
  },
  {
   "cell_type": "markdown",
   "metadata": {},
   "source": [
    "Dakle i sa već zadatim koordinatama i mojim koordinatama matrice su iste."
   ]
  },
  {
   "cell_type": "markdown",
   "metadata": {},
   "source": [
    "# Modifikovani DLT algoritam"
   ]
  },
  {
   "cell_type": "markdown",
   "metadata": {},
   "source": [
    "-računanje afinog težišta sistema.               \n",
    "-traslacija dobijenog težišta u koordinatni početak.             \n",
    "p -prosecno rastojanje transliranih koordinata od koordinatnog početka            \n",
    "S- homotetija sa faktorom koren iz 2 kroz p"
   ]
  },
  {
   "cell_type": "code",
   "execution_count": null,
   "metadata": {},
   "outputs": [],
   "source": [
    "def normalization(original):\n",
    "    x = sum([p[0]/p[2] for p in original]) / len(original)\n",
    "    y = sum([p[1]/p[2] for p in original]) / len(original)\n",
    "\n",
    "    p = 0.0\n",
    "\n",
    "    for i in range(len(original_points)):\n",
    "        tmp1 = float(original_points[i][0]/original[i][2]) - x\n",
    "        tmp2 = float(original_points[i][1]/original[i][2]) - y\n",
    "\n",
    "        p = p + math.sqrt(tmp1**2 + tmp2**2)\n",
    "\n",
    "    p = p / float(len(original_points))\n",
    "\n",
    "    S = float(math.sqrt(2)) / p\n",
    "\n",
    "    return np.array([[S, 0, -S*x], [0, S, -S*y], [0, 0, 1]])\n",
    "\n",
    "def dlt_normalized(original,product):\n",
    "\n",
    "    T = normalization(original)\n",
    "    Tp = normalization(product)\n",
    "\n",
    "    M_line = T.dot(np.transpose(original))\n",
    "    Mp = Tp.dot(np.transpose(product))\n",
    "\n",
    "    M_line = np.transpose(M_line)\n",
    "    Mp = np.transpose(Mp)\n",
    "\n",
    "    P_line = dlt(M_line, Mp)\n",
    "\n",
    "    P = (np.linalg.inv(Tp)).dot(P_line).dot(T)\n",
    "\n",
    "    return P"
   ]
  },
  {
   "cell_type": "code",
   "execution_count": null,
   "metadata": {},
   "outputs": [],
   "source": [
    "P_dlt_normalized = dlt_normalized(original_points,product_points)\n",
    "print(\"Modifikovani DLT algoritam(zadate koordinate):\")\n",
    "print(P_dlt_normalized.round(5))\n",
    "print(\"\\n\")\n",
    "P_my_dlt_normalized = dlt_normalized(my_original_points, my_product_points)\n",
    "print(\"Modifikovani DLT algoritam((moje koordinate):\")\n",
    "print(P_my_dlt_normalized.round(5))"
   ]
  },
  {
   "cell_type": "markdown",
   "metadata": {},
   "source": [
    " Poredjenje modifikovanog DLT algoritma i DLT algoritma"
   ]
  },
  {
   "cell_type": "code",
   "execution_count": null,
   "metadata": {},
   "outputs": [],
   "source": [
    "P_dlt_normalized = (P_dlt_normalized / P_dlt_normalized[0, 0]) * P_dlt[0, 0]\n",
    "print(\"Poredjenje modifikovanog DLT algoritma i DLT algoritma(zadate koordinate):\")\n",
    "print(P_dlt_normalized.round(5))\n",
    "print(\"\\n\")\n",
    "P_my_dlt_normalized = (P_my_dlt_normalized / P_my_dlt_normalized[0, 0]) * P_my_dlt[0, 0]\n",
    "print(\"Poredjenje modifikovanog DLT algoritma i DLT algoritma(moje koordinate):\")\n",
    "print(P_my_dlt_normalized.round(5))"
   ]
  },
  {
   "cell_type": "code",
   "execution_count": null,
   "metadata": {},
   "outputs": [],
   "source": [
    "print(\"Zadate koodinate:                                       radjeno preko np.array_equal\")\n",
    "if (P_dlt_normalized.round(5),P_dlt.round(5)):\n",
    "    print(\"Matrice su iste\")\n",
    "print(\"Moje koodinate:\")\n",
    "if (P_my_dlt_normalized.round(5),P_my_dlt.round(5)):\n",
    "    print(\"Matrice su iste\")"
   ]
  },
  {
   "cell_type": "markdown",
   "metadata": {},
   "source": [
    "Dakle i sa već zadatim koordinatama i mojim koordinatama matrice su iste.                      \n",
    "Ne zavisi od promene koordinata!!!"
   ]
  },
  {
   "cell_type": "markdown",
   "metadata": {},
   "source": [
    "# DLT sa vise korespodencija"
   ]
  },
  {
   "cell_type": "code",
   "execution_count": null,
   "metadata": {},
   "outputs": [],
   "source": [
    "original_cor = [[-3, -1, 1],\n",
    "              [3, -1, 1],\n",
    "              [1, 1, 1],\n",
    "              [-1, 1, 1],\n",
    "              [1, 2, 3],\n",
    "              [-8, -2, 1]]\n",
    "\n",
    "product_cor = [[-2, -1, 1],\n",
    "              [2, -1, 1],\n",
    "              [2, 1, 1],\n",
    "              [-2, 1, 1],\n",
    "              [2, 1, 4],\n",
    "              [-16, -5, 4]]"
   ]
  },
  {
   "cell_type": "code",
   "execution_count": null,
   "metadata": {},
   "outputs": [],
   "source": [
    "print(\"DLT sa vise od 4 korespodencije:\")\n",
    "P_dlt_new = dlt(original_cor,product_cor)\n",
    "print(P_dlt_new.round(5))\n",
    "print(\"\\n\")\n",
    "\n",
    "print(\"Poredjenje sa naivnim algoritmom:\")\n",
    "P_dlt_new = (P_dlt_new / P_dlt_new[0, 0]) * P_naive[0, 0]\n",
    "print(P_dlt_new.round(5))\n",
    "print(\"\\n\")\n",
    "\n",
    "print(\"Potvrda da je preslikavanje isto:\")\n",
    "print(P_dlt_new.round(5) == P_naive.round(5))"
   ]
  },
  {
   "cell_type": "code",
   "execution_count": null,
   "metadata": {},
   "outputs": [],
   "source": [
    "print(\"Modifikovani DLT za vise od 4 korespodencije:\")\n",
    "P_dlt_norm_new = dlt_normalized(original_cor,product_cor)\n",
    "print(P_dlt_norm_new.round(5))\n",
    "print(\"\\n\")\n",
    "\n",
    "print(\"Poredjenje sa naivnim algoritmom:\")\n",
    "P_dlt_norm_new = (P_dlt_norm_new / P_dlt_norm_new[0, 0]) * P_naive[0, 0]\n",
    "print(P_dlt_new.round(5))\n",
    "print(\"\\n\")\n",
    "\n",
    "print(\"Potvrda da je preslikavanje isto:\")\n",
    "if np.array_equal(P_dlt_norm_new.round(5),P_naive.round(5)):\n",
    "        print(\"Isto je\")"
   ]
  },
  {
   "cell_type": "markdown",
   "metadata": {},
   "source": [
    "# Promena koordinata kod DLT algoritma"
   ]
  },
  {
   "cell_type": "code",
   "execution_count": null,
   "metadata": {},
   "outputs": [],
   "source": [
    "def change_coordinates():\n",
    "\n",
    "    C1 = np.array([[0, 1, 2], \n",
    "                   [-1, 0, 3], \n",
    "                   [0, 0, 1]])\n",
    "    \n",
    "    C2 = np.array([[1, -1, 5], \n",
    "                   [1, 1, -2], \n",
    "                   [0, 0, 1]])\n",
    "\n",
    "    new_original_points = []\n",
    "    new_product_points = []\n",
    "\n",
    "    # nove tacke\n",
    "    for i in range(len(original_points)):\n",
    "        new_original_points.append(np.dot(C1, original_points[i]))\n",
    "        new_product_points.append(np.dot(C2, product_points[i]))\n",
    " \n",
    "    new_original_points = np.array(new_original_points)\n",
    "    new_product_points = np.array(new_product_points)\n",
    "\n",
    "    # DLT algoritam\n",
    "    P_dlt = dlt(original_points, product_points) \n",
    "    P_dlt_new = dlt(new_original_points, new_product_points)\n",
    "  \n",
    "    P_tmp = np.dot(np.linalg.inv(C2), P_dlt_new)\n",
    "    P_tmp = np.dot(P_tmp, C1)\n",
    "    P_tmp = (P_dlt[0] / P_tmp[0]) * P_tmp\n",
    "    \n",
    "    print(\"Poredjenje DLT algoritma nakon promene koordinata: \")\n",
    "    if np.array_equal(P_dlt.round(5),P_tmp.round(5)):\n",
    "            print(\"Matrice su iste\")\n",
    "    else:\n",
    "            print(\"Matrice nisu iste\")\n",
    "       \n",
    "        \n",
    "    P_dlt_norm = dlt_normalized(original_points, product_points)\n",
    "    P_dlt_norm_new = dlt_normalized(new_original_points,new_product_points)\n",
    "\n",
    "    P_tmp = np.dot(np.linalg.inv(C2), P_dlt_norm_new)\n",
    "    P_tmp = np.dot(P_tmp, C1)\n",
    "    \n",
    "    print(\"Poredjenje modifikovanog DLT algoritma nakon promene koordinata: \")\n",
    "    if np.array_equal(P_dlt_norm.round(5),P_tmp.round(5)):\n",
    "            print(\"Matrice su iste\")\n",
    "    else:\n",
    "            print(\"Matrice nisu iste\")"
   ]
  },
  {
   "cell_type": "code",
   "execution_count": null,
   "metadata": {},
   "outputs": [],
   "source": [
    "change_coordinates()"
   ]
  },
  {
   "cell_type": "markdown",
   "metadata": {},
   "source": [
    "Iz nekog razloga nisam mogla da dobijem da se dobije ista matrica kada se poredi modifikovani DLT nakon promene koordinata\n",
    "Stvarno sam sve pokusala i ne znam koju gresku pravim i gde imam previde necega              \n",
    "Svakako sam taj deo koda napisala i stavila pod komentare i nadam se da to ne odnosi puno poena haah :)"
   ]
  },
  {
   "cell_type": "markdown",
   "metadata": {},
   "source": [
    "# 4) Uklanjanje projektivne distorzije"
   ]
  },
  {
   "cell_type": "code",
   "execution_count": null,
   "metadata": {},
   "outputs": [],
   "source": [
    "import cv2"
   ]
  },
  {
   "cell_type": "code",
   "execution_count": null,
   "metadata": {},
   "outputs": [],
   "source": [
    "def distortion():\n",
    "    img = cv2.imread(\"zgrada.png\", cv2.IMREAD_COLOR)\n",
    "\n",
    "    plt.imshow(img)\n",
    "    plt.show()\n",
    "   \n",
    "    img_copy = np.copy(img)\n",
    "    img_copy = cv2.cvtColor(img_copy,cv2.COLOR_BGR2RGB)\n",
    "\n",
    "    # REDOSLED gore levo,gore desno,dole desno,dole levo\n",
    "    A = [[136,106,1],\n",
    "         [240,6,1],\n",
    "         [240,490,1],\n",
    "         [140,400,1]]\n",
    "\n",
    "    Ap = [[30,0,1],\n",
    "          [400, 0, 1],\n",
    "          [400, 400,1],\n",
    "          [0, 400,1]]\n",
    "   \n",
    "    M = naive_algorithm(A,Ap)\n",
    "    out = cv2.warpPerspective(img,M,(700,400),flags=cv2.INTER_LINEAR)\n",
    "    plt.imshow(out)\n",
    "    plt.show()"
   ]
  },
  {
   "cell_type": "code",
   "execution_count": null,
   "metadata": {},
   "outputs": [],
   "source": [
    "distortion()"
   ]
  },
  {
   "cell_type": "markdown",
   "metadata": {},
   "source": [
    "# 4.1) Panorama"
   ]
  },
  {
   "cell_type": "code",
   "execution_count": null,
   "metadata": {},
   "outputs": [],
   "source": [
    "import imageio\n",
    "import imutils\n",
    "cv2.ocl.setUseOpenCL(False)"
   ]
  },
  {
   "cell_type": "code",
   "execution_count": null,
   "metadata": {},
   "outputs": [],
   "source": [
    "img2 = imageio.imread('desna.jpeg')\n",
    "img2_gray = cv2.cvtColor(img2, cv2.COLOR_RGB2GRAY)\n",
    "\n",
    "img1 = imageio.imread('leva.jpeg')\n",
    "img1_gray = cv2.cvtColor(img1, cv2.COLOR_RGB2GRAY)\n",
    "\n",
    "fig, (ax1, ax2) = plt.subplots(nrows=1, ncols=2, constrained_layout=False, figsize=(16,9))\n",
    "ax1.imshow(img1, cmap=\"gray\")\n",
    "ax2.imshow(img2, cmap=\"gray\")\n",
    "\n",
    "plt.show()"
   ]
  },
  {
   "cell_type": "code",
   "execution_count": null,
   "metadata": {},
   "outputs": [],
   "source": [
    "descriptor = cv2.xfeatures2d.SIFT_create()\n",
    "\n",
    "kpA, featuresA = descriptor.detectAndCompute(img2_gray, mask=None)\n",
    "kpB, featuresB = descriptor.detectAndCompute(img1_gray, mask=None)"
   ]
  },
  {
   "cell_type": "markdown",
   "metadata": {},
   "source": [
    "Pronalazenje zajednickih tacki"
   ]
  },
  {
   "cell_type": "code",
   "execution_count": null,
   "metadata": {},
   "outputs": [],
   "source": [
    "fig, (ax1,ax2) = plt.subplots(nrows=1, ncols=2, figsize=(20,8), constrained_layout=False)\n",
    "ax1.imshow(cv2.drawKeypoints(img2_gray, kpA, None, color=(0,255,0)))\n",
    "ax2.imshow(cv2.drawKeypoints(img1_gray, kpB, None, color=(0,255,0)))\n",
    "\n",
    "plt.show()"
   ]
  },
  {
   "cell_type": "markdown",
   "metadata": {},
   "source": [
    "Spajanje tih tacaka"
   ]
  },
  {
   "cell_type": "code",
   "execution_count": null,
   "metadata": {},
   "outputs": [],
   "source": [
    "def bf_match(featuresA, featuresB):\n",
    "    bf = cv2.BFMatcher(cv2.NORM_L2, crossCheck=True)\n",
    "        \n",
    "    best_matches = bf.match(featuresA, featuresB)\n",
    "    \n",
    "    rawMatches = sorted(best_matches, key = lambda x:x.distance)\n",
    "\n",
    "    return rawMatches"
   ]
  },
  {
   "cell_type": "code",
   "execution_count": null,
   "metadata": {},
   "outputs": [],
   "source": [
    "fig = plt.figure(figsize=(20,8))\n",
    "\n",
    "matches = bf_match(featuresA, featuresB)\n",
    "\n",
    "img3 = cv2.drawMatches(img2, kpA, img1, kpB, matches[:100], None,\n",
    "                       flags=cv2.DrawMatchesFlags_NOT_DRAW_SINGLE_POINTS)\n",
    "\n",
    "plt.imshow(img3)\n",
    "plt.show()"
   ]
  },
  {
   "cell_type": "markdown",
   "metadata": {},
   "source": [
    "RANSAC algoritam"
   ]
  },
  {
   "cell_type": "code",
   "execution_count": null,
   "metadata": {},
   "outputs": [],
   "source": [
    "def homography(kpA, kpB, featuresA, featuresB, matches, reprojThresh):\n",
    "    \n",
    "    kpA = np.float32([kp.pt for kp in kpA])\n",
    "    kpB = np.float32([kp.pt for kp in kpB])\n",
    "    \n",
    "    if len(matches) > 4:\n",
    "        ptsA = np.float32([kpA[m.queryIdx] for m in matches])\n",
    "        ptsB = np.float32([kpB[m.trainIdx] for m in matches])\n",
    "        \n",
    "        (H, status) = cv2.findHomography(ptsA, ptsB, cv2.RANSAC,reprojThresh)\n",
    "\n",
    "        return (matches, H, status)\n",
    "    else:\n",
    "        return None"
   ]
  },
  {
   "cell_type": "code",
   "execution_count": null,
   "metadata": {},
   "outputs": [],
   "source": [
    "(_, H, _) = homography(kpA, kpB, featuresA, featuresB, matches, reprojThresh=4)\n",
    "print(H.round(1))"
   ]
  },
  {
   "cell_type": "markdown",
   "metadata": {},
   "source": [
    "Spajanje u panoramu"
   ]
  },
  {
   "cell_type": "code",
   "execution_count": null,
   "metadata": {},
   "outputs": [],
   "source": [
    "width = img2.shape[1] + img1.shape[1]\n",
    "height = img2.shape[0] + img1.shape[0]\n",
    "\n",
    "res = cv2.warpPerspective(img2, H, (width, height))\n",
    "res[0:img1.shape[0], 0:img1.shape[1]] = img1\n",
    "\n",
    "plt.figure(figsize=(20,10))\n",
    "plt.imshow(res)\n",
    "\n",
    "plt.show()"
   ]
  },
  {
   "cell_type": "markdown",
   "metadata": {},
   "source": [
    "Uklanjanje viska crnog u rezultatu"
   ]
  },
  {
   "cell_type": "code",
   "execution_count": null,
   "metadata": {},
   "outputs": [],
   "source": [
    "gray = cv2.cvtColor(res, cv2.COLOR_BGR2GRAY)\n",
    "thresh = cv2.threshold(gray, 0, 255, cv2.THRESH_BINARY)[1]\n",
    "\n",
    "cnts = cv2.findContours(thresh.copy(), cv2.RETR_EXTERNAL, cv2.CHAIN_APPROX_SIMPLE)\n",
    "cnts = imutils.grab_contours(cnts)\n",
    "\n",
    "c = max(cnts, key=cv2.contourArea)\n",
    "(x, y, w, h) = cv2.boundingRect(c)\n",
    "\n",
    "res = res[y:y + h, x:x + w]\n",
    "\n",
    "plt.figure(figsize=(10,10))\n",
    "plt.imshow(res)"
   ]
  },
  {
   "cell_type": "markdown",
   "metadata": {},
   "source": [
    "# Komentar\n",
    "Kodovi za panoramu i uklanjanje distorzije su produkt trazenja razlicitih funkcija i delova kodova\n",
    "sa interneta.       \n",
    "Poprilicno je napredno sve ovo i smatram da mi nismo toliko potkovani znanjem iz bilo kod programskog jezika da znamo neke ovakve fje tako da znate da sam dosta toga nasla na netu."
   ]
  },
  {
   "cell_type": "code",
   "execution_count": null,
   "metadata": {},
   "outputs": [],
   "source": []
  }
 ],
 "metadata": {
  "kernelspec": {
   "display_name": "Python 3",
   "language": "python",
   "name": "python3"
  },
  "language_info": {
   "codemirror_mode": {
    "name": "ipython",
    "version": 3
   },
   "file_extension": ".py",
   "mimetype": "text/x-python",
   "name": "python",
   "nbconvert_exporter": "python",
   "pygments_lexer": "ipython3",
   "version": "3.8.5"
  }
 },
 "nbformat": 4,
 "nbformat_minor": 4
}
